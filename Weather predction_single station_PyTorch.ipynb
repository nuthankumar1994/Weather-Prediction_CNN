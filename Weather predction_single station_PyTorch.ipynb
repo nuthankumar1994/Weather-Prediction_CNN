{
 "cells": [
  {
   "cell_type": "code",
   "execution_count": 1,
   "metadata": {},
   "outputs": [],
   "source": [
    "import pandas as pd \n",
    "import numpy as np \n",
    "import matplotlib.pyplot as plt "
   ]
  },
  {
   "cell_type": "code",
   "execution_count": 2,
   "metadata": {},
   "outputs": [],
   "source": [
    "ts_df = pd.read_csv('/Users/nuthankumar/Downloads/Time-Series-Forecasting-using-Deep-Learning-main/Chapter 03/uk_temperature_prediction/data/MET_Office_Weather_Data.csv')"
   ]
  },
  {
   "cell_type": "code",
   "execution_count": 3,
   "metadata": {},
   "outputs": [],
   "source": [
    "ts = ts_df.loc[ts_df[\"station\"]=='sheffield']"
   ]
  },
  {
   "cell_type": "code",
   "execution_count": 4,
   "metadata": {},
   "outputs": [
    {
     "data": {
      "text/html": [
       "<div>\n",
       "<style scoped>\n",
       "    .dataframe tbody tr th:only-of-type {\n",
       "        vertical-align: middle;\n",
       "    }\n",
       "\n",
       "    .dataframe tbody tr th {\n",
       "        vertical-align: top;\n",
       "    }\n",
       "\n",
       "    .dataframe thead th {\n",
       "        text-align: right;\n",
       "    }\n",
       "</style>\n",
       "<table border=\"1\" class=\"dataframe\">\n",
       "  <thead>\n",
       "    <tr style=\"text-align: right;\">\n",
       "      <th></th>\n",
       "      <th>year</th>\n",
       "      <th>month</th>\n",
       "      <th>tmax</th>\n",
       "      <th>tmin</th>\n",
       "      <th>af</th>\n",
       "      <th>rain</th>\n",
       "      <th>sun</th>\n",
       "      <th>station</th>\n",
       "    </tr>\n",
       "  </thead>\n",
       "  <tbody>\n",
       "    <tr>\n",
       "      <th>26161</th>\n",
       "      <td>1883.0</td>\n",
       "      <td>1.0</td>\n",
       "      <td>6.3</td>\n",
       "      <td>1.7</td>\n",
       "      <td>6.0</td>\n",
       "      <td>122.1</td>\n",
       "      <td>NaN</td>\n",
       "      <td>sheffield</td>\n",
       "    </tr>\n",
       "    <tr>\n",
       "      <th>26162</th>\n",
       "      <td>1883.0</td>\n",
       "      <td>2.0</td>\n",
       "      <td>8.0</td>\n",
       "      <td>2.8</td>\n",
       "      <td>2.0</td>\n",
       "      <td>69.8</td>\n",
       "      <td>NaN</td>\n",
       "      <td>sheffield</td>\n",
       "    </tr>\n",
       "    <tr>\n",
       "      <th>26163</th>\n",
       "      <td>1883.0</td>\n",
       "      <td>3.0</td>\n",
       "      <td>4.8</td>\n",
       "      <td>-1.6</td>\n",
       "      <td>23.0</td>\n",
       "      <td>29.6</td>\n",
       "      <td>NaN</td>\n",
       "      <td>sheffield</td>\n",
       "    </tr>\n",
       "    <tr>\n",
       "      <th>26164</th>\n",
       "      <td>1883.0</td>\n",
       "      <td>4.0</td>\n",
       "      <td>12.2</td>\n",
       "      <td>3.8</td>\n",
       "      <td>2.0</td>\n",
       "      <td>74.0</td>\n",
       "      <td>NaN</td>\n",
       "      <td>sheffield</td>\n",
       "    </tr>\n",
       "    <tr>\n",
       "      <th>26165</th>\n",
       "      <td>1883.0</td>\n",
       "      <td>5.0</td>\n",
       "      <td>14.7</td>\n",
       "      <td>6.2</td>\n",
       "      <td>0.0</td>\n",
       "      <td>31.2</td>\n",
       "      <td>NaN</td>\n",
       "      <td>sheffield</td>\n",
       "    </tr>\n",
       "  </tbody>\n",
       "</table>\n",
       "</div>"
      ],
      "text/plain": [
       "         year  month  tmax  tmin    af   rain  sun    station\n",
       "26161  1883.0    1.0   6.3   1.7   6.0  122.1  NaN  sheffield\n",
       "26162  1883.0    2.0   8.0   2.8   2.0   69.8  NaN  sheffield\n",
       "26163  1883.0    3.0   4.8  -1.6  23.0   29.6  NaN  sheffield\n",
       "26164  1883.0    4.0  12.2   3.8   2.0   74.0  NaN  sheffield\n",
       "26165  1883.0    5.0  14.7   6.2   0.0   31.2  NaN  sheffield"
      ]
     },
     "execution_count": 4,
     "metadata": {},
     "output_type": "execute_result"
    }
   ],
   "source": [
    "ts.head()"
   ]
  },
  {
   "cell_type": "code",
   "execution_count": null,
   "metadata": {},
   "outputs": [],
   "source": []
  },
  {
   "cell_type": "code",
   "execution_count": 5,
   "metadata": {},
   "outputs": [
    {
     "data": {
      "text/html": [
       "<div>\n",
       "<style scoped>\n",
       "    .dataframe tbody tr th:only-of-type {\n",
       "        vertical-align: middle;\n",
       "    }\n",
       "\n",
       "    .dataframe tbody tr th {\n",
       "        vertical-align: top;\n",
       "    }\n",
       "\n",
       "    .dataframe thead th {\n",
       "        text-align: right;\n",
       "    }\n",
       "</style>\n",
       "<table border=\"1\" class=\"dataframe\">\n",
       "  <thead>\n",
       "    <tr style=\"text-align: right;\">\n",
       "      <th></th>\n",
       "      <th>count</th>\n",
       "      <th>mean</th>\n",
       "      <th>std</th>\n",
       "      <th>min</th>\n",
       "      <th>25%</th>\n",
       "      <th>50%</th>\n",
       "      <th>75%</th>\n",
       "      <th>max</th>\n",
       "    </tr>\n",
       "  </thead>\n",
       "  <tbody>\n",
       "    <tr>\n",
       "      <th>year</th>\n",
       "      <td>1650.0</td>\n",
       "      <td>1951.250909</td>\n",
       "      <td>39.705390</td>\n",
       "      <td>1883.0</td>\n",
       "      <td>1917.000</td>\n",
       "      <td>1951.00</td>\n",
       "      <td>1986.000</td>\n",
       "      <td>2020.0</td>\n",
       "    </tr>\n",
       "    <tr>\n",
       "      <th>month</th>\n",
       "      <td>1650.0</td>\n",
       "      <td>6.489091</td>\n",
       "      <td>3.453082</td>\n",
       "      <td>1.0</td>\n",
       "      <td>3.000</td>\n",
       "      <td>6.00</td>\n",
       "      <td>9.000</td>\n",
       "      <td>12.0</td>\n",
       "    </tr>\n",
       "    <tr>\n",
       "      <th>tmax</th>\n",
       "      <td>1623.0</td>\n",
       "      <td>12.886014</td>\n",
       "      <td>5.347162</td>\n",
       "      <td>-0.6</td>\n",
       "      <td>8.200</td>\n",
       "      <td>12.70</td>\n",
       "      <td>17.700</td>\n",
       "      <td>25.6</td>\n",
       "    </tr>\n",
       "    <tr>\n",
       "      <th>tmin</th>\n",
       "      <td>1623.0</td>\n",
       "      <td>6.224892</td>\n",
       "      <td>4.042961</td>\n",
       "      <td>-4.2</td>\n",
       "      <td>2.900</td>\n",
       "      <td>5.70</td>\n",
       "      <td>10.000</td>\n",
       "      <td>14.5</td>\n",
       "    </tr>\n",
       "    <tr>\n",
       "      <th>af</th>\n",
       "      <td>1623.0</td>\n",
       "      <td>2.896488</td>\n",
       "      <td>4.848672</td>\n",
       "      <td>0.0</td>\n",
       "      <td>0.000</td>\n",
       "      <td>0.00</td>\n",
       "      <td>4.000</td>\n",
       "      <td>28.0</td>\n",
       "    </tr>\n",
       "    <tr>\n",
       "      <th>rain</th>\n",
       "      <td>1648.0</td>\n",
       "      <td>66.685680</td>\n",
       "      <td>38.147088</td>\n",
       "      <td>0.6</td>\n",
       "      <td>39.275</td>\n",
       "      <td>60.05</td>\n",
       "      <td>87.450</td>\n",
       "      <td>285.6</td>\n",
       "    </tr>\n",
       "    <tr>\n",
       "      <th>sun</th>\n",
       "      <td>1088.0</td>\n",
       "      <td>111.450368</td>\n",
       "      <td>61.229335</td>\n",
       "      <td>5.8</td>\n",
       "      <td>55.675</td>\n",
       "      <td>107.10</td>\n",
       "      <td>157.475</td>\n",
       "      <td>290.8</td>\n",
       "    </tr>\n",
       "  </tbody>\n",
       "</table>\n",
       "</div>"
      ],
      "text/plain": [
       "        count         mean        std     min       25%      50%       75%  \\\n",
       "year   1650.0  1951.250909  39.705390  1883.0  1917.000  1951.00  1986.000   \n",
       "month  1650.0     6.489091   3.453082     1.0     3.000     6.00     9.000   \n",
       "tmax   1623.0    12.886014   5.347162    -0.6     8.200    12.70    17.700   \n",
       "tmin   1623.0     6.224892   4.042961    -4.2     2.900     5.70    10.000   \n",
       "af     1623.0     2.896488   4.848672     0.0     0.000     0.00     4.000   \n",
       "rain   1648.0    66.685680  38.147088     0.6    39.275    60.05    87.450   \n",
       "sun    1088.0   111.450368  61.229335     5.8    55.675   107.10   157.475   \n",
       "\n",
       "          max  \n",
       "year   2020.0  \n",
       "month    12.0  \n",
       "tmax     25.6  \n",
       "tmin     14.5  \n",
       "af       28.0  \n",
       "rain    285.6  \n",
       "sun     290.8  "
      ]
     },
     "execution_count": 5,
     "metadata": {},
     "output_type": "execute_result"
    }
   ],
   "source": [
    "ts.describe().T "
   ]
  },
  {
   "cell_type": "code",
   "execution_count": 6,
   "metadata": {},
   "outputs": [
    {
     "data": {
      "text/plain": [
       "year         0\n",
       "month        0\n",
       "tmax        27\n",
       "tmin        27\n",
       "af          27\n",
       "rain         2\n",
       "sun        562\n",
       "station      0\n",
       "dtype: int64"
      ]
     },
     "execution_count": 6,
     "metadata": {},
     "output_type": "execute_result"
    }
   ],
   "source": [
    "ts.isna().sum()"
   ]
  },
  {
   "cell_type": "code",
   "execution_count": 7,
   "metadata": {},
   "outputs": [],
   "source": [
    "ts = ts_df.loc[ts_df[\"station\"]=='sheffield']['tmin'].interpolate().dropna().tolist()"
   ]
  },
  {
   "cell_type": "code",
   "execution_count": 8,
   "metadata": {},
   "outputs": [
    {
     "data": {
      "text/plain": [
       "[<matplotlib.lines.Line2D at 0x7fd518807e80>]"
      ]
     },
     "execution_count": 8,
     "metadata": {},
     "output_type": "execute_result"
    },
    {
     "data": {
      "image/png": "[encoded data removed]",
      "text/plain": [
       "<Figure size 432x288 with 1 Axes>"
      ]
     },
     "metadata": {
      "needs_background": "light"
     },
     "output_type": "display_data"
    }
   ],
   "source": [
    "plt.plot(ts[-200:])"
   ]
  },
  {
   "cell_type": "code",
   "execution_count": 9,
   "metadata": {},
   "outputs": [],
   "source": [
    "import torch \n",
    "import torch.nn.functional as F "
   ]
  },
  {
   "cell_type": "code",
   "execution_count": 10,
   "metadata": {},
   "outputs": [],
   "source": [
    "class DL(torch.nn.Module):\n",
    "    def __init__(self, n_inp, l_1, l_2, conv1_out, conv1_kernel, conv2_kernel, drop1=0):\n",
    "        super(DL, self).__init__()\n",
    "        conv1_out_ch = conv1_out\n",
    "        conv2_out_ch = conv1_out * 2\n",
    "        conv1_kernel = conv1_kernel\n",
    "        conv2_kernel = conv2_kernel\n",
    "        self.dropout_lin1 = drop1\n",
    "        self.pool = torch.nn.MaxPool1d(kernel_size=2)\n",
    "        self.conv1 = torch.nn.Conv1d(in_channels=1, out_channels=conv1_out_ch, kernel_size=conv1_kernel, padding= conv1_kernel-1)\n",
    "        self.conv2 = torch.nn.Conv1d(in_channels=conv1_out_ch, out_channels=conv2_out_ch, kernel_size=conv2_kernel, padding=conv2_kernel-1)\n",
    "\n",
    "        feature_tensor = self.feature_stack(torch.Tensor([[0]*n_inp]))\n",
    "        self.lin1 = torch.nn.Linear(feature_tensor.size()[1], l_1)\n",
    "        self.lin2 = torch.nn.Linear(l_1, l_2)\n",
    "        self.lin3 = torch.nn.Linear(l_2,1)\n",
    "        \n",
    "    def feature_stack(self, x):\n",
    "        x = x.unsqueeze(1)\n",
    "        x = F.relu(self.pool(self.conv1(x)))\n",
    "        x = F.relu(self.pool(self.conv2(x)))\n",
    "        x = x.flatten(start_dim=1)\n",
    "        return x\n",
    "\n",
    "    def fc_stack(self, x):\n",
    "        x1 = F.relu(self.lin1(x))\n",
    "        # x1 = F.relu(self.dropout_lin1)\n",
    "        x2 = F.relu(self.lin2(x1))\n",
    "        y = self.lin3(x2)\n",
    "        return y \n",
    "\n",
    "    def forward(self,x):\n",
    "        x = self.feature_stack(x)\n",
    "        y = self.fc_stack(x)\n",
    "        return y "
   ]
  },
  {
   "cell_type": "code",
   "execution_count": 11,
   "metadata": {},
   "outputs": [],
   "source": [
    "from statsmodels.tsa.statespace.sarimax import SARIMAX\n",
    "import torch\n",
    "\n",
    "class SarimaxPredictor(torch.nn.Module):\n",
    "    def forward(self,x):\n",
    "        last_values = []\n",
    "        l = x.tolist()\n",
    "        counter = 0\n",
    "\n",
    "        for r in l:\n",
    "            model = SARIMAX(r, order = (1, 1, 1), seasonal_order = (1, 1, 1, 12))\n",
    "            results = model.fit(disp=0)\n",
    "            forecast = results.forecast()\n",
    "            last_values.append([forecast[0]])\n",
    "            counter =+ 1\n",
    "            print(f'debug: SARIM CALCLATION {counter}/{len(l)}')\n",
    "\n",
    "        return torch.tensor(data = last_values)"
   ]
  },
  {
   "cell_type": "code",
   "execution_count": 12,
   "metadata": {},
   "outputs": [],
   "source": [
    "from statsmodels.tsa.holtwinters import ExponentialSmoothing\n",
    "class HwesPredictor(torch.nn.Module):\n",
    "    def forward(self, x):\n",
    "        last_values = []\n",
    "        for r in x.tolist():\n",
    "            model = ExponentialSmoothing(r, trend = None, seasonal = 'add', seasonal_periods=12)\n",
    "            result = model.fit()\n",
    "            forecast = result.forecast()\n",
    "            last_values.append([forecast[0]])\n",
    "        return torch.tensor(data = last_values)"
   ]
  },
  {
   "cell_type": "code",
   "execution_count": 13,
   "metadata": {},
   "outputs": [],
   "source": [
    "def sliding_window(ts, features):\n",
    "    X = []\n",
    "    Y = []\n",
    "\n",
    "    for i in range(features + 1, len(ts) + 1):\n",
    "        X.append(ts[i - (features + 1):i - 1])\n",
    "        Y.append([ts[i - 1]])\n",
    "\n",
    "    return X, Y"
   ]
  },
  {
   "cell_type": "code",
   "execution_count": 14,
   "metadata": {},
   "outputs": [],
   "source": [
    "def get_training_datasets(features, test_len, ts):\n",
    "    ts = ts \n",
    "    X, Y = sliding_window(ts, features)\n",
    "\n",
    "    X_train, Y_train, X_test, Y_test = X[0:-test_len], \\\n",
    "                                       Y[0:-test_len], \\\n",
    "                                       X[-test_len:], \\\n",
    "                                       Y[-test_len:]\n",
    "\n",
    "    train_len = round(len(ts) * 0.7)\n",
    "\n",
    "    X_train, X_val, Y_train, Y_val = X_train[0:train_len],\\\n",
    "                                     X_train[train_len:],\\\n",
    "                                     Y_train[0:train_len],\\\n",
    "                                     Y_train[train_len:]\n",
    "\n",
    "    x_train = torch.tensor(data = X_train)\n",
    "    y_train = torch.tensor(data = Y_train)\n",
    "\n",
    "    x_val = torch.tensor(data = X_val)\n",
    "    y_val = torch.tensor(data = Y_val)\n",
    "\n",
    "    x_test = torch.tensor(data = X_test)\n",
    "    y_test = torch.tensor(data = Y_test)\n",
    "\n",
    "    return x_train, x_val, x_test, y_train, y_val, y_test"
   ]
  },
  {
   "cell_type": "code",
   "execution_count": 15,
   "metadata": {},
   "outputs": [],
   "source": [
    "import copy \n",
    "import random\n",
    "import sys\n",
    "\n",
    "random.seed(1)\n",
    "torch.manual_seed(1)\n",
    "\n",
    "features = 120 \n",
    "\n",
    "x_train, x_val, x_test, y_train, y_val, y_test = \\\n",
    "    get_training_datasets(features, 60, ts =ts )"
   ]
  },
  {
   "cell_type": "code",
   "execution_count": 16,
   "metadata": {},
   "outputs": [
    {
     "name": "stderr",
     "output_type": "stream",
     "text": [
      "[W NNPACK.cpp:79] Could not initialize NNPACK! Reason: Unsupported hardware.\n"
     ]
    },
    {
     "data": {
      "text/plain": [
       "DL(\n",
       "  (pool): MaxPool1d(kernel_size=2, stride=2, padding=0, dilation=1, ceil_mode=False)\n",
       "  (conv1): Conv1d(1, 6, kernel_size=(36,), stride=(1,), padding=(35,))\n",
       "  (conv2): Conv1d(6, 12, kernel_size=(12,), stride=(1,), padding=(11,))\n",
       "  (lin1): Linear(in_features=528, out_features=400, bias=True)\n",
       "  (lin2): Linear(in_features=400, out_features=48, bias=True)\n",
       "  (lin3): Linear(in_features=48, out_features=1, bias=True)\n",
       ")"
      ]
     },
     "execution_count": 16,
     "metadata": {},
     "output_type": "execute_result"
    }
   ],
   "source": [
    "net = DL(\n",
    "    n_inp = features,\n",
    "    l_1 = 400,\n",
    "    l_2 = 48,\n",
    "    conv1_out = 6,\n",
    "    conv1_kernel = 36,\n",
    "    conv2_kernel = 12,\n",
    "    drop1 = 0.1,\n",
    ") \n",
    "net.train()"
   ]
  },
  {
   "cell_type": "code",
   "execution_count": 17,
   "metadata": {},
   "outputs": [],
   "source": [
    "sarima_predictor = SarimaxPredictor()\n",
    "hwes_predictor = HwesPredictor()"
   ]
  },
  {
   "cell_type": "code",
   "execution_count": 18,
   "metadata": {},
   "outputs": [
    {
     "name": "stdout",
     "output_type": "stream",
     "text": [
      "epoch 0: train - 6.1618, val: - 6.2501\n",
      "epoch 10: train - 2.5729, val: - 2.4723\n",
      "epoch 20: train - 1.1912, val: - 1.5448\n",
      "epoch 30: train - 1.0331, val: - 0.9457\n",
      "epoch 40: train - 1.0222, val: - 0.9314\n",
      "epoch 50: train - 0.9975, val: - 0.9982\n",
      "epoch 60: train - 0.979, val: - 0.949\n",
      "epoch 70: train - 0.9667, val: - 0.955\n",
      "epoch 80: train - 0.9588, val: - 0.9626\n",
      "epoch 90: train - 0.9499, val: - 0.9571\n",
      "epoch 100: train - 0.9405, val: - 0.9584\n",
      "epoch 110: train - 0.9308, val: - 0.9623\n",
      "epoch 120: train - 0.9184, val: - 0.9669\n",
      "epoch 130: train - 0.9072, val: - 0.9538\n",
      "epoch 140: train - 0.8903, val: - 0.9741\n"
     ]
    }
   ],
   "source": [
    "\n",
    "\n",
    "optimizer = torch.optim.Adam(params=net.parameters())\n",
    "abs_loss = torch.nn.L1Loss()\n",
    "\n",
    "best_model = None\n",
    "min_val_loss = sys.maxsize\n",
    "\n",
    "training_loss = []\n",
    "validation_loss = []\n",
    "\n",
    "for t in range(150):\n",
    "\n",
    "    prediction = net(x_train)\n",
    "    loss = abs_loss(prediction, y_train)\n",
    "\n",
    "    optimizer.zero_grad()\n",
    "    loss.backward()\n",
    "    optimizer.step()\n",
    "\n",
    "    val_prediction = net(x_val)\n",
    "    val_loss = abs_loss(val_prediction, y_val)\n",
    "    \n",
    "    training_loss.append(loss.item())\n",
    "    validation_loss.append(val_loss.item())\n",
    "\n",
    "    if val_loss.item() < min_val_loss:\n",
    "        best_model = copy.deepcopy(net)\n",
    "        min_val_loss = val_loss.item()\n",
    "\n",
    "    if t % 10 ==0:\n",
    "        print(f'epoch {t}: train - {round(loss.item(), 4)}, '\n",
    "              f'val: - {round(val_loss.item(), 4)}')\n",
    "            \n"
   ]
  },
  {
   "cell_type": "code",
   "execution_count": 19,
   "metadata": {},
   "outputs": [
    {
     "name": "stdout",
     "output_type": "stream",
     "text": [
      "debug: SARIM CALCLATION 1/60\n",
      "debug: SARIM CALCLATION 1/60\n",
      "debug: SARIM CALCLATION 1/60\n",
      "debug: SARIM CALCLATION 1/60\n",
      "debug: SARIM CALCLATION 1/60\n",
      "debug: SARIM CALCLATION 1/60\n",
      "debug: SARIM CALCLATION 1/60\n",
      "debug: SARIM CALCLATION 1/60\n",
      "debug: SARIM CALCLATION 1/60\n",
      "debug: SARIM CALCLATION 1/60\n",
      "debug: SARIM CALCLATION 1/60\n",
      "debug: SARIM CALCLATION 1/60\n",
      "debug: SARIM CALCLATION 1/60\n",
      "debug: SARIM CALCLATION 1/60\n",
      "debug: SARIM CALCLATION 1/60\n",
      "debug: SARIM CALCLATION 1/60\n",
      "debug: SARIM CALCLATION 1/60\n",
      "debug: SARIM CALCLATION 1/60\n",
      "debug: SARIM CALCLATION 1/60\n",
      "debug: SARIM CALCLATION 1/60\n",
      "debug: SARIM CALCLATION 1/60\n",
      "debug: SARIM CALCLATION 1/60\n",
      "debug: SARIM CALCLATION 1/60\n",
      "debug: SARIM CALCLATION 1/60\n",
      "debug: SARIM CALCLATION 1/60\n",
      "debug: SARIM CALCLATION 1/60\n",
      "debug: SARIM CALCLATION 1/60\n",
      "debug: SARIM CALCLATION 1/60\n",
      "debug: SARIM CALCLATION 1/60\n",
      "debug: SARIM CALCLATION 1/60\n",
      "debug: SARIM CALCLATION 1/60\n",
      "debug: SARIM CALCLATION 1/60\n",
      "debug: SARIM CALCLATION 1/60\n",
      "debug: SARIM CALCLATION 1/60\n",
      "debug: SARIM CALCLATION 1/60\n",
      "debug: SARIM CALCLATION 1/60\n",
      "debug: SARIM CALCLATION 1/60\n",
      "debug: SARIM CALCLATION 1/60\n",
      "debug: SARIM CALCLATION 1/60\n",
      "debug: SARIM CALCLATION 1/60\n",
      "debug: SARIM CALCLATION 1/60\n",
      "debug: SARIM CALCLATION 1/60\n",
      "debug: SARIM CALCLATION 1/60\n",
      "debug: SARIM CALCLATION 1/60\n",
      "debug: SARIM CALCLATION 1/60\n",
      "debug: SARIM CALCLATION 1/60\n",
      "debug: SARIM CALCLATION 1/60\n",
      "debug: SARIM CALCLATION 1/60\n",
      "debug: SARIM CALCLATION 1/60\n",
      "debug: SARIM CALCLATION 1/60\n",
      "debug: SARIM CALCLATION 1/60\n",
      "debug: SARIM CALCLATION 1/60\n",
      "debug: SARIM CALCLATION 1/60\n",
      "debug: SARIM CALCLATION 1/60\n",
      "debug: SARIM CALCLATION 1/60\n",
      "debug: SARIM CALCLATION 1/60\n",
      "debug: SARIM CALCLATION 1/60\n",
      "debug: SARIM CALCLATION 1/60\n",
      "debug: SARIM CALCLATION 1/60\n",
      "debug: SARIM CALCLATION 1/60\n"
     ]
    },
    {
     "name": "stderr",
     "output_type": "stream",
     "text": [
      "/opt/anaconda3/lib/python3.9/site-packages/statsmodels/tsa/holtwinters/model.py:427: FutureWarning: After 0.13 initialization must be handled at model creation\n",
      "  warnings.warn(\n"
     ]
    },
    {
     "name": "stdout",
     "output_type": "stream",
     "text": [
      "===\n",
      "Results on Test Dataset\n",
      "DL Loss: 0.8569\n",
      "SARIMA Loss: 0.9227\n",
      "HWES Loss: 1.0464\n"
     ]
    }
   ],
   "source": [
    "dl_prediction = best_model(x_test)\n",
    "sarima_prediction = sarima_predictor(x_test)\n",
    "hwes_prediction = hwes_predictor(x_test)\n",
    "\n",
    "dl_abs_loss = round(abs_loss(dl_prediction, y_test).item(), 4)\n",
    "sarima_abs_loss = round(abs_loss(sarima_prediction, y_test).item(), 4)\n",
    "hwes_abs_loss = round(abs_loss(hwes_prediction, y_test).item(), 4)\n",
    "\n",
    "print('===')\n",
    "print('Results on Test Dataset')\n",
    "print(f'DL Loss: {dl_abs_loss}')\n",
    "print(f'SARIMA Loss: {sarima_abs_loss}')\n",
    "print(f'HWES Loss: {hwes_abs_loss}')"
   ]
  },
  {
   "cell_type": "code",
   "execution_count": 20,
   "metadata": {},
   "outputs": [
    {
     "data": {
      "image/png": "[encoded data removed]",
      "text/plain": [
       "<Figure size 432x288 with 1 Axes>"
      ]
     },
     "metadata": {
      "needs_background": "light"
     },
     "output_type": "display_data"
    },
    {
     "data": {
      "image/png": "[encoded data removed]",
      "text/plain": [
       "<Figure size 432x288 with 1 Axes>"
      ]
     },
     "metadata": {
      "needs_background": "light"
     },
     "output_type": "display_data"
    },
    {
     "data": {
      "image/png": "[encoded data removed]",
      "text/plain": [
       "<Figure size 432x288 with 3 Axes>"
      ]
     },
     "metadata": {
      "needs_background": "light"
     },
     "output_type": "display_data"
    }
   ],
   "source": [
    "plt.title(\"Training progress\")\n",
    "plt.plot(training_loss, label = 'training loss')\n",
    "plt.plot(validation_loss, label = 'validation loss')\n",
    "plt.legend()\n",
    "plt.show()\n",
    "\n",
    "plt.title('Test Dataset')\n",
    "plt.plot(y_test, '--', label = 'actual', linewidth = 3)\n",
    "plt.plot(best_model(x_test).tolist(), label = 'DL', color = 'g')\n",
    "plt.plot(sarima_prediction.tolist(), label = 'SARIMA', color = 'r')\n",
    "plt.plot(hwes_prediction.tolist(), label = 'HWES', color = 'brown')\n",
    "plt.legend()\n",
    "plt.show()\n",
    "\n",
    "test_n = len(y_test)\n",
    "dl_abs_dev = (dl_prediction - y_test).abs_()\n",
    "sarima_abs_dev = (sarima_prediction - y_test).abs_()\n",
    "hwes_abs_dev = (hwes_prediction - y_test).abs_()\n",
    "\n",
    "fig = plt.figure()\n",
    "\n",
    "ax1 = fig.add_subplot(311)\n",
    "ax2 = fig.add_subplot(312)\n",
    "ax3 = fig.add_subplot(313)\n",
    "\n",
    "ax1.set_title(f'Deep Learning Model: {dl_abs_loss}')\n",
    "ax1.bar(list(range(test_n)), dl_abs_dev.view(test_n).tolist(), color = 'g')\n",
    "\n",
    "ax2.set_title(f'SARIMA Model: {sarima_abs_loss}')\n",
    "ax2.bar(list(range(test_n)), sarima_abs_dev.view(test_n).tolist(), color = 'r')\n",
    "\n",
    "ax3.set_title(f'HWES Model: {hwes_abs_loss}')\n",
    "ax3.bar(list(range(test_n)), hwes_abs_dev.view(test_n).tolist(), color = 'brown')\n",
    "\n",
    "plt.show()"
   ]
  },
  {
   "cell_type": "code",
   "execution_count": null,
   "metadata": {},
   "outputs": [],
   "source": []
  }
 ],
 "metadata": {
  "interpreter": {
   "hash": "40d3a090f54c6569ab1632332b64b2c03c39dcf918b08424e98f38b5ae0af88f"
  },
  "kernelspec": {
   "display_name": "Python 3.9.7 ('base')",
   "language": "python",
   "name": "python3"
  },
  "language_info": {
   "codemirror_mode": {
    "name": "ipython",
    "version": 3
   },
   "file_extension": ".py",
   "mimetype": "text/x-python",
   "name": "python",
   "nbconvert_exporter": "python",
   "pygments_lexer": "ipython3",
   "version": "3.9.7"
  },
  "orig_nbformat": 4
 },
 "nbformat": 4,
 "nbformat_minor": 2
}
