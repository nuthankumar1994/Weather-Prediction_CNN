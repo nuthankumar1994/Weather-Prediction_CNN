{
  "cells": [
    {
      "cell_type": "code",
      "execution_count": 1,
      "metadata": {
        "id": "5gpq9TRG6HwS"
      },
      "outputs": [],
      "source": [
        "import pandas as pd \n",
        "import numpy as np \n",
        "import matplotlib.pyplot as plt "
      ]
    },
    {
      "cell_type": "code",
      "execution_count": 2,
      "metadata": {
        "id": "v5ozVymG6HwU"
      },
      "outputs": [],
      "source": [
        "ts_df = pd.read_csv('/content/MET Office Weather Data.csv')"
      ]
    },
    {
      "cell_type": "code",
      "execution_count": 3,
      "metadata": {
        "id": "cm5Iw6Rk6HwV"
      },
      "outputs": [],
      "source": [
        "ts_1 = ts_df.drop('station', axis=1)"
      ]
    },
    {
      "cell_type": "code",
      "execution_count": 4,
      "metadata": {
        "colab": {
          "base_uri": "https://localhost:8080/",
          "height": 419
        },
        "id": "c2AI6ugl6HwV",
        "outputId": "e5158fb9-6d55-47df-ac64-947c3f863b7e"
      },
      "outputs": [
        {
          "output_type": "execute_result",
          "data": {
            "text/plain": [
              "         year  month  tmax  tmin   af   rain    sun\n",
              "0      1941.0    1.0   NaN   NaN  NaN   74.7    NaN\n",
              "1      1941.0    2.0   NaN   NaN  NaN   69.1    NaN\n",
              "2      1941.0    3.0   NaN   NaN  NaN   76.2    NaN\n",
              "3      1941.0    4.0   NaN   NaN  NaN   33.7    NaN\n",
              "4      1941.0    5.0   NaN   NaN  NaN   51.3    NaN\n",
              "...       ...    ...   ...   ...  ...    ...    ...\n",
              "37044  2020.0    2.0  10.8   4.5  2.0  117.4   63.1\n",
              "37045  2020.0    3.0  11.5   3.0  6.0   43.4  159.2\n",
              "37046  2020.0    4.0  17.5   5.3  3.0   39.8  235.0\n",
              "37047  2020.0    5.0  19.7   6.8  2.0    3.6  305.6\n",
              "37048  2020.0    6.0  20.5  11.0  0.0  103.0  187.6\n",
              "\n",
              "[37049 rows x 7 columns]"
            ],
            "text/html": [
              "\n",
              "  <div id=\"df-ea1862b0-cc8b-493c-b93b-e84651697471\">\n",
              "    <div class=\"colab-df-container\">\n",
              "      <div>\n",
              "<style scoped>\n",
              "    .dataframe tbody tr th:only-of-type {\n",
              "        vertical-align: middle;\n",
              "    }\n",
              "\n",
              "    .dataframe tbody tr th {\n",
              "        vertical-align: top;\n",
              "    }\n",
              "\n",
              "    .dataframe thead th {\n",
              "        text-align: right;\n",
              "    }\n",
              "</style>\n",
              "<table border=\"1\" class=\"dataframe\">\n",
              "  <thead>\n",
              "    <tr style=\"text-align: right;\">\n",
              "      <th></th>\n",
              "      <th>year</th>\n",
              "      <th>month</th>\n",
              "      <th>tmax</th>\n",
              "      <th>tmin</th>\n",
              "      <th>af</th>\n",
              "      <th>rain</th>\n",
              "      <th>sun</th>\n",
              "    </tr>\n",
              "  </thead>\n",
              "  <tbody>\n",
              "    <tr>\n",
              "      <th>0</th>\n",
              "      <td>1941.0</td>\n",
              "      <td>1.0</td>\n",
              "      <td>NaN</td>\n",
              "      <td>NaN</td>\n",
              "      <td>NaN</td>\n",
              "      <td>74.7</td>\n",
              "      <td>NaN</td>\n",
              "    </tr>\n",
              "    <tr>\n",
              "      <th>1</th>\n",
              "      <td>1941.0</td>\n",
              "      <td>2.0</td>\n",
              "      <td>NaN</td>\n",
              "      <td>NaN</td>\n",
              "      <td>NaN</td>\n",
              "      <td>69.1</td>\n",
              "      <td>NaN</td>\n",
              "    </tr>\n",
              "    <tr>\n",
              "      <th>2</th>\n",
              "      <td>1941.0</td>\n",
              "      <td>3.0</td>\n",
              "      <td>NaN</td>\n",
              "      <td>NaN</td>\n",
              "      <td>NaN</td>\n",
              "      <td>76.2</td>\n",
              "      <td>NaN</td>\n",
              "    </tr>\n",
              "    <tr>\n",
              "      <th>3</th>\n",
              "      <td>1941.0</td>\n",
              "      <td>4.0</td>\n",
              "      <td>NaN</td>\n",
              "      <td>NaN</td>\n",
              "      <td>NaN</td>\n",
              "      <td>33.7</td>\n",
              "      <td>NaN</td>\n",
              "    </tr>\n",
              "    <tr>\n",
              "      <th>4</th>\n",
              "      <td>1941.0</td>\n",
              "      <td>5.0</td>\n",
              "      <td>NaN</td>\n",
              "      <td>NaN</td>\n",
              "      <td>NaN</td>\n",
              "      <td>51.3</td>\n",
              "      <td>NaN</td>\n",
              "    </tr>\n",
              "    <tr>\n",
              "      <th>...</th>\n",
              "      <td>...</td>\n",
              "      <td>...</td>\n",
              "      <td>...</td>\n",
              "      <td>...</td>\n",
              "      <td>...</td>\n",
              "      <td>...</td>\n",
              "      <td>...</td>\n",
              "    </tr>\n",
              "    <tr>\n",
              "      <th>37044</th>\n",
              "      <td>2020.0</td>\n",
              "      <td>2.0</td>\n",
              "      <td>10.8</td>\n",
              "      <td>4.5</td>\n",
              "      <td>2.0</td>\n",
              "      <td>117.4</td>\n",
              "      <td>63.1</td>\n",
              "    </tr>\n",
              "    <tr>\n",
              "      <th>37045</th>\n",
              "      <td>2020.0</td>\n",
              "      <td>3.0</td>\n",
              "      <td>11.5</td>\n",
              "      <td>3.0</td>\n",
              "      <td>6.0</td>\n",
              "      <td>43.4</td>\n",
              "      <td>159.2</td>\n",
              "    </tr>\n",
              "    <tr>\n",
              "      <th>37046</th>\n",
              "      <td>2020.0</td>\n",
              "      <td>4.0</td>\n",
              "      <td>17.5</td>\n",
              "      <td>5.3</td>\n",
              "      <td>3.0</td>\n",
              "      <td>39.8</td>\n",
              "      <td>235.0</td>\n",
              "    </tr>\n",
              "    <tr>\n",
              "      <th>37047</th>\n",
              "      <td>2020.0</td>\n",
              "      <td>5.0</td>\n",
              "      <td>19.7</td>\n",
              "      <td>6.8</td>\n",
              "      <td>2.0</td>\n",
              "      <td>3.6</td>\n",
              "      <td>305.6</td>\n",
              "    </tr>\n",
              "    <tr>\n",
              "      <th>37048</th>\n",
              "      <td>2020.0</td>\n",
              "      <td>6.0</td>\n",
              "      <td>20.5</td>\n",
              "      <td>11.0</td>\n",
              "      <td>0.0</td>\n",
              "      <td>103.0</td>\n",
              "      <td>187.6</td>\n",
              "    </tr>\n",
              "  </tbody>\n",
              "</table>\n",
              "<p>37049 rows × 7 columns</p>\n",
              "</div>\n",
              "      <button class=\"colab-df-convert\" onclick=\"convertToInteractive('df-ea1862b0-cc8b-493c-b93b-e84651697471')\"\n",
              "              title=\"Convert this dataframe to an interactive table.\"\n",
              "              style=\"display:none;\">\n",
              "        \n",
              "  <svg xmlns=\"http://www.w3.org/2000/svg\" height=\"24px\"viewBox=\"0 0 24 24\"\n",
              "       width=\"24px\">\n",
              "    <path d=\"M0 0h24v24H0V0z\" fill=\"none\"/>\n",
              "    <path d=\"M18.56 5.44l.94 2.06.94-2.06 2.06-.94-2.06-.94-.94-2.06-.94 2.06-2.06.94zm-11 1L8.5 8.5l.94-2.06 2.06-.94-2.06-.94L8.5 2.5l-.94 2.06-2.06.94zm10 10l.94 2.06.94-2.06 2.06-.94-2.06-.94-.94-2.06-.94 2.06-2.06.94z\"/><path d=\"M17.41 7.96l-1.37-1.37c-.4-.4-.92-.59-1.43-.59-.52 0-1.04.2-1.43.59L10.3 9.45l-7.72 7.72c-.78.78-.78 2.05 0 2.83L4 21.41c.39.39.9.59 1.41.59.51 0 1.02-.2 1.41-.59l7.78-7.78 2.81-2.81c.8-.78.8-2.07 0-2.86zM5.41 20L4 18.59l7.72-7.72 1.47 1.35L5.41 20z\"/>\n",
              "  </svg>\n",
              "      </button>\n",
              "      \n",
              "  <style>\n",
              "    .colab-df-container {\n",
              "      display:flex;\n",
              "      flex-wrap:wrap;\n",
              "      gap: 12px;\n",
              "    }\n",
              "\n",
              "    .colab-df-convert {\n",
              "      background-color: #E8F0FE;\n",
              "      border: none;\n",
              "      border-radius: 50%;\n",
              "      cursor: pointer;\n",
              "      display: none;\n",
              "      fill: #1967D2;\n",
              "      height: 32px;\n",
              "      padding: 0 0 0 0;\n",
              "      width: 32px;\n",
              "    }\n",
              "\n",
              "    .colab-df-convert:hover {\n",
              "      background-color: #E2EBFA;\n",
              "      box-shadow: 0px 1px 2px rgba(60, 64, 67, 0.3), 0px 1px 3px 1px rgba(60, 64, 67, 0.15);\n",
              "      fill: #174EA6;\n",
              "    }\n",
              "\n",
              "    [theme=dark] .colab-df-convert {\n",
              "      background-color: #3B4455;\n",
              "      fill: #D2E3FC;\n",
              "    }\n",
              "\n",
              "    [theme=dark] .colab-df-convert:hover {\n",
              "      background-color: #434B5C;\n",
              "      box-shadow: 0px 1px 3px 1px rgba(0, 0, 0, 0.15);\n",
              "      filter: drop-shadow(0px 1px 2px rgba(0, 0, 0, 0.3));\n",
              "      fill: #FFFFFF;\n",
              "    }\n",
              "  </style>\n",
              "\n",
              "      <script>\n",
              "        const buttonEl =\n",
              "          document.querySelector('#df-ea1862b0-cc8b-493c-b93b-e84651697471 button.colab-df-convert');\n",
              "        buttonEl.style.display =\n",
              "          google.colab.kernel.accessAllowed ? 'block' : 'none';\n",
              "\n",
              "        async function convertToInteractive(key) {\n",
              "          const element = document.querySelector('#df-ea1862b0-cc8b-493c-b93b-e84651697471');\n",
              "          const dataTable =\n",
              "            await google.colab.kernel.invokeFunction('convertToInteractive',\n",
              "                                                     [key], {});\n",
              "          if (!dataTable) return;\n",
              "\n",
              "          const docLinkHtml = 'Like what you see? Visit the ' +\n",
              "            '<a target=\"_blank\" href=https://colab.research.google.com/notebooks/data_table.ipynb>data table notebook</a>'\n",
              "            + ' to learn more about interactive tables.';\n",
              "          element.innerHTML = '';\n",
              "          dataTable['output_type'] = 'display_data';\n",
              "          await google.colab.output.renderOutput(dataTable, element);\n",
              "          const docLink = document.createElement('div');\n",
              "          docLink.innerHTML = docLinkHtml;\n",
              "          element.appendChild(docLink);\n",
              "        }\n",
              "      </script>\n",
              "    </div>\n",
              "  </div>\n",
              "  "
            ]
          },
          "metadata": {},
          "execution_count": 4
        }
      ],
      "source": [
        "ts_1"
      ]
    },
    {
      "cell_type": "code",
      "execution_count": 5,
      "metadata": {
        "id": "lhdn_R1C6HwW"
      },
      "outputs": [],
      "source": [
        "ts = ts_1['tmax'].dropna().interpolate().tolist()"
      ]
    },
    {
      "cell_type": "code",
      "execution_count": 6,
      "metadata": {
        "colab": {
          "base_uri": "https://localhost:8080/",
          "height": 282
        },
        "id": "e7sUCiqM6HwW",
        "outputId": "4778ad01-0867-4fa0-b6d4-45e42bcc032c"
      },
      "outputs": [
        {
          "output_type": "execute_result",
          "data": {
            "text/plain": [
              "[<matplotlib.lines.Line2D at 0x7f5245508dd0>]"
            ]
          },
          "metadata": {},
          "execution_count": 6
        },
        {
          "output_type": "display_data",
          "data": {
            "text/plain": [
              "<Figure size 432x288 with 1 Axes>"
            ],
            "image/png": "[encoded data removed]"
          },
          "metadata": {
            "needs_background": "light"
          }
        }
      ],
      "source": [
        "plt.plot(ts[-200:])"
      ]
    },
    {
      "cell_type": "code",
      "execution_count": 7,
      "metadata": {
        "id": "hiam4m4O6HwX"
      },
      "outputs": [],
      "source": [
        "import torch \n",
        "import torch.nn.functional as F "
      ]
    },
    {
      "cell_type": "code",
      "execution_count": 8,
      "metadata": {
        "id": "9Me_EedZ6HwX"
      },
      "outputs": [],
      "source": [
        "class DL(torch.nn.Module):\n",
        "    def __init__(self, n_inp, l_1, l_2, conv1_out, conv1_kernel, conv2_kernel, drop1=0):\n",
        "        super(DL, self).__init__()\n",
        "        conv1_out_ch = conv1_out\n",
        "        conv2_out_ch = conv1_out * 2\n",
        "        conv1_kernel = conv1_kernel\n",
        "        conv2_kernel = conv2_kernel\n",
        "        self.dropout_lin1 = drop1\n",
        "        self.pool = torch.nn.MaxPool1d(kernel_size=2)\n",
        "        self.conv1 = torch.nn.Conv1d(in_channels=1, out_channels=conv1_out_ch, kernel_size=conv1_kernel, padding= conv1_kernel-1)\n",
        "        self.conv2 = torch.nn.Conv1d(in_channels=conv1_out_ch, out_channels=conv2_out_ch, kernel_size=conv2_kernel, padding=conv2_kernel-1)\n",
        "\n",
        "        feature_tensor = self.feature_stack(torch.Tensor([[0]*n_inp]))\n",
        "        self.lin1 = torch.nn.Linear(feature_tensor.size()[1], l_1)\n",
        "        self.lin2 = torch.nn.Linear(l_1, l_2)\n",
        "        self.lin3 = torch.nn.Linear(l_2,1)\n",
        "        \n",
        "    def feature_stack(self, x):\n",
        "        x = x.unsqueeze(1)\n",
        "        x = F.relu(self.pool(self.conv1(x)))\n",
        "        x = F.relu(self.pool(self.conv2(x)))\n",
        "        x = x.flatten(start_dim=1)\n",
        "        return x\n",
        "\n",
        "    def fc_stack(self, x):\n",
        "        x1 = F.relu(self.lin1(x))\n",
        "        # x1 = F.relu(self.dropout_lin1)\n",
        "        x2 = F.relu(self.lin2(x1))\n",
        "        y = self.lin3(x2)\n",
        "        return y \n",
        "\n",
        "    def forward(self,x):\n",
        "        x = self.feature_stack(x)\n",
        "        y = self.fc_stack(x)\n",
        "        return y "
      ]
    },
    {
      "cell_type": "code",
      "execution_count": 9,
      "metadata": {
        "colab": {
          "base_uri": "https://localhost:8080/"
        },
        "id": "Vv5XkLmO6HwY",
        "outputId": "010896da-3761-4946-bb33-24c421b9e5ae"
      },
      "outputs": [
        {
          "output_type": "stream",
          "name": "stderr",
          "text": [
            "/usr/local/lib/python3.7/dist-packages/statsmodels/tools/_testing.py:19: FutureWarning: pandas.util.testing is deprecated. Use the functions in the public API at pandas.testing instead.\n",
            "  import pandas.util.testing as tm\n"
          ]
        }
      ],
      "source": [
        "from statsmodels.tsa.statespace.sarimax import SARIMAX\n",
        "import torch\n",
        "\n",
        "class SarimaxPredictor(torch.nn.Module):\n",
        "    def forward(self,x):\n",
        "        last_values = []\n",
        "        l = x.tolist()\n",
        "        counter = 0\n",
        "\n",
        "        for r in l:\n",
        "            model = SARIMAX(r, order = (1, 1, 1), seasonal_order = (1, 1, 1, 12))\n",
        "            results = model.fit(disp=0)\n",
        "            forecast = results.forecast()\n",
        "            last_values.append([forecast[0]])\n",
        "            counter =+ 1\n",
        "            print(f'debug: SARIM CALCLATION {counter}/{len(l)}')\n",
        "\n",
        "        return torch.tensor(data = last_values)"
      ]
    },
    {
      "cell_type": "code",
      "execution_count": 10,
      "metadata": {
        "id": "ibDYyASv6HwY"
      },
      "outputs": [],
      "source": [
        "from statsmodels.tsa.holtwinters import ExponentialSmoothing\n",
        "class HwesPredictor(torch.nn.Module):\n",
        "    def forward(self, x):\n",
        "        last_values = []\n",
        "        for r in x.tolist():\n",
        "            model = ExponentialSmoothing(r, trend = None, seasonal = 'add', seasonal_periods=12)\n",
        "            result = model.fit()\n",
        "            forecast = result.forecast()\n",
        "            last_values.append([forecast[0]])\n",
        "        return torch.tensor(data = last_values)"
      ]
    },
    {
      "cell_type": "code",
      "execution_count": 11,
      "metadata": {
        "id": "ywoDQGCR6HwZ"
      },
      "outputs": [],
      "source": [
        "def sliding_window(ts, features):\n",
        "    X = []\n",
        "    Y = []\n",
        "\n",
        "    for i in range(features + 1, len(ts) + 1):\n",
        "        X.append(ts[i - (features + 1):i - 1])\n",
        "        Y.append([ts[i - 1]])\n",
        "\n",
        "    return X, Y"
      ]
    },
    {
      "cell_type": "code",
      "execution_count": 12,
      "metadata": {
        "id": "2jNM5hxo6HwZ"
      },
      "outputs": [],
      "source": [
        "def get_training_datasets(features, test_len, ts):\n",
        "    ts = ts \n",
        "    X, Y = sliding_window(ts, features)\n",
        "\n",
        "    X_train, Y_train, X_test, Y_test = X[0:-test_len], \\\n",
        "                                       Y[0:-test_len], \\\n",
        "                                       X[-test_len:], \\\n",
        "                                       Y[-test_len:]\n",
        "\n",
        "    train_len = round(len(ts) * 0.7)\n",
        "\n",
        "    X_train, X_val, Y_train, Y_val = X_train[0:train_len],\\\n",
        "                                     X_train[train_len:],\\\n",
        "                                     Y_train[0:train_len],\\\n",
        "                                     Y_train[train_len:]\n",
        "\n",
        "    x_train = torch.tensor(data = X_train)\n",
        "    y_train = torch.tensor(data = Y_train)\n",
        "\n",
        "    x_val = torch.tensor(data = X_val)\n",
        "    y_val = torch.tensor(data = Y_val)\n",
        "\n",
        "    x_test = torch.tensor(data = X_test)\n",
        "    y_test = torch.tensor(data = Y_test)\n",
        "\n",
        "    return x_train, x_val, x_test, y_train, y_val, y_test"
      ]
    },
    {
      "cell_type": "code",
      "execution_count": 13,
      "metadata": {
        "id": "yaRa8eQw6Hwa"
      },
      "outputs": [],
      "source": [
        "import copy \n",
        "import random\n",
        "import sys\n",
        "\n",
        "random.seed(1)\n",
        "torch.manual_seed(1)\n",
        "\n",
        "features = 120 \n",
        "\n",
        "x_train, x_val, x_test, y_train, y_val, y_test = \\\n",
        "    get_training_datasets(features, 60, ts =ts )"
      ]
    },
    {
      "cell_type": "code",
      "execution_count": 14,
      "metadata": {
        "colab": {
          "base_uri": "https://localhost:8080/"
        },
        "id": "YIIWAKvy6Hwa",
        "outputId": "d761c4c8-df01-47f1-c62e-223731498890"
      },
      "outputs": [
        {
          "output_type": "execute_result",
          "data": {
            "text/plain": [
              "DL(\n",
              "  (pool): MaxPool1d(kernel_size=2, stride=2, padding=0, dilation=1, ceil_mode=False)\n",
              "  (conv1): Conv1d(1, 6, kernel_size=(36,), stride=(1,), padding=(35,))\n",
              "  (conv2): Conv1d(6, 12, kernel_size=(12,), stride=(1,), padding=(11,))\n",
              "  (lin1): Linear(in_features=528, out_features=400, bias=True)\n",
              "  (lin2): Linear(in_features=400, out_features=48, bias=True)\n",
              "  (lin3): Linear(in_features=48, out_features=1, bias=True)\n",
              ")"
            ]
          },
          "metadata": {},
          "execution_count": 14
        }
      ],
      "source": [
        "net = DL(\n",
        "    n_inp = features,\n",
        "    l_1 = 400,\n",
        "    l_2 = 48,\n",
        "    conv1_out = 6,\n",
        "    conv1_kernel = 36,\n",
        "    conv2_kernel = 12,\n",
        "    drop1 = 0.1,\n",
        ") \n",
        "net.train()"
      ]
    },
    {
      "cell_type": "code",
      "execution_count": 15,
      "metadata": {
        "id": "WidR4nR_6Hwb"
      },
      "outputs": [],
      "source": [
        "sarima_predictor = SarimaxPredictor()\n",
        "hwes_predictor = HwesPredictor()"
      ]
    },
    {
      "cell_type": "code",
      "execution_count": 16,
      "metadata": {
        "colab": {
          "base_uri": "https://localhost:8080/"
        },
        "id": "DCGAJ7oG6Hwb",
        "outputId": "d6d32116-732b-4174-8d97-16296e5d34d0"
      },
      "outputs": [
        {
          "output_type": "stream",
          "name": "stdout",
          "text": [
            "epoch 0: train - 12.8265, val: - 11.4434\n",
            "epoch 10: train - 4.0648, val: - 3.5937\n",
            "epoch 20: train - 3.3811, val: - 3.0179\n",
            "epoch 30: train - 2.0305, val: - 1.5788\n",
            "epoch 40: train - 1.9719, val: - 1.5223\n",
            "epoch 50: train - 1.775, val: - 1.469\n",
            "epoch 60: train - 1.6285, val: - 1.3326\n",
            "epoch 70: train - 1.5089, val: - 1.2795\n",
            "epoch 80: train - 1.4538, val: - 1.2549\n",
            "epoch 90: train - 1.4077, val: - 1.2143\n",
            "epoch 100: train - 1.3664, val: - 1.1797\n",
            "epoch 110: train - 1.3364, val: - 1.1585\n",
            "epoch 120: train - 1.3223, val: - 1.1508\n",
            "epoch 130: train - 1.304, val: - 1.1381\n",
            "epoch 140: train - 1.2898, val: - 1.1292\n"
          ]
        }
      ],
      "source": [
        "\n",
        "\n",
        "optimizer = torch.optim.Adam(params=net.parameters())\n",
        "abs_loss = torch.nn.L1Loss()\n",
        "\n",
        "best_model = None\n",
        "min_val_loss = sys.maxsize\n",
        "\n",
        "training_loss = []\n",
        "validation_loss = []\n",
        "\n",
        "for t in range(150):\n",
        "\n",
        "    prediction = net(x_train)\n",
        "    loss = abs_loss(prediction, y_train)\n",
        "\n",
        "    optimizer.zero_grad()\n",
        "    loss.backward()\n",
        "    optimizer.step()\n",
        "\n",
        "    val_prediction = net(x_val)\n",
        "    val_loss = abs_loss(val_prediction, y_val)\n",
        "    \n",
        "    training_loss.append(loss.item())\n",
        "    validation_loss.append(val_loss.item())\n",
        "\n",
        "    if val_loss.item() < min_val_loss:\n",
        "        best_model = copy.deepcopy(net)\n",
        "        min_val_loss = val_loss.item()\n",
        "\n",
        "    if t % 10 ==0:\n",
        "        print(f'epoch {t}: train - {round(loss.item(), 4)}, '\n",
        "              f'val: - {round(val_loss.item(), 4)}')\n",
        "            \n"
      ]
    },
    {
      "cell_type": "code",
      "execution_count": 17,
      "metadata": {
        "colab": {
          "base_uri": "https://localhost:8080/"
        },
        "id": "1hL0C6cM6Hwc",
        "outputId": "13f91ea3-f6e2-4c7b-e129-787cb75e8981"
      },
      "outputs": [
        {
          "output_type": "stream",
          "name": "stdout",
          "text": [
            "debug: SARIM CALCLATION 1/60\n",
            "debug: SARIM CALCLATION 1/60\n",
            "debug: SARIM CALCLATION 1/60\n",
            "debug: SARIM CALCLATION 1/60\n",
            "debug: SARIM CALCLATION 1/60\n",
            "debug: SARIM CALCLATION 1/60\n",
            "debug: SARIM CALCLATION 1/60\n",
            "debug: SARIM CALCLATION 1/60\n",
            "debug: SARIM CALCLATION 1/60\n",
            "debug: SARIM CALCLATION 1/60\n",
            "debug: SARIM CALCLATION 1/60\n",
            "debug: SARIM CALCLATION 1/60\n",
            "debug: SARIM CALCLATION 1/60\n",
            "debug: SARIM CALCLATION 1/60\n",
            "debug: SARIM CALCLATION 1/60\n",
            "debug: SARIM CALCLATION 1/60\n",
            "debug: SARIM CALCLATION 1/60\n",
            "debug: SARIM CALCLATION 1/60\n",
            "debug: SARIM CALCLATION 1/60\n",
            "debug: SARIM CALCLATION 1/60\n",
            "debug: SARIM CALCLATION 1/60\n",
            "debug: SARIM CALCLATION 1/60\n",
            "debug: SARIM CALCLATION 1/60\n",
            "debug: SARIM CALCLATION 1/60\n",
            "debug: SARIM CALCLATION 1/60\n",
            "debug: SARIM CALCLATION 1/60\n",
            "debug: SARIM CALCLATION 1/60\n",
            "debug: SARIM CALCLATION 1/60\n",
            "debug: SARIM CALCLATION 1/60\n",
            "debug: SARIM CALCLATION 1/60\n",
            "debug: SARIM CALCLATION 1/60\n",
            "debug: SARIM CALCLATION 1/60\n",
            "debug: SARIM CALCLATION 1/60\n",
            "debug: SARIM CALCLATION 1/60\n",
            "debug: SARIM CALCLATION 1/60\n",
            "debug: SARIM CALCLATION 1/60\n",
            "debug: SARIM CALCLATION 1/60\n",
            "debug: SARIM CALCLATION 1/60\n",
            "debug: SARIM CALCLATION 1/60\n",
            "debug: SARIM CALCLATION 1/60\n",
            "debug: SARIM CALCLATION 1/60\n",
            "debug: SARIM CALCLATION 1/60\n",
            "debug: SARIM CALCLATION 1/60\n",
            "debug: SARIM CALCLATION 1/60\n",
            "debug: SARIM CALCLATION 1/60\n",
            "debug: SARIM CALCLATION 1/60\n",
            "debug: SARIM CALCLATION 1/60\n",
            "debug: SARIM CALCLATION 1/60\n",
            "debug: SARIM CALCLATION 1/60\n",
            "debug: SARIM CALCLATION 1/60\n",
            "debug: SARIM CALCLATION 1/60\n",
            "debug: SARIM CALCLATION 1/60\n",
            "debug: SARIM CALCLATION 1/60\n",
            "debug: SARIM CALCLATION 1/60\n",
            "debug: SARIM CALCLATION 1/60\n",
            "debug: SARIM CALCLATION 1/60\n",
            "debug: SARIM CALCLATION 1/60\n",
            "debug: SARIM CALCLATION 1/60\n",
            "debug: SARIM CALCLATION 1/60\n",
            "debug: SARIM CALCLATION 1/60\n",
            "===\n",
            "Results on Test Dataset\n",
            "DL Loss: 1.084\n",
            "SARIMA Loss: 1.1292\n",
            "HWES Loss: 1.1735\n"
          ]
        }
      ],
      "source": [
        "dl_prediction = best_model(x_test)\n",
        "sarima_prediction = sarima_predictor(x_test)\n",
        "hwes_prediction = hwes_predictor(x_test)\n",
        "\n",
        "dl_abs_loss = round(abs_loss(dl_prediction, y_test).item(), 4)\n",
        "sarima_abs_loss = round(abs_loss(sarima_prediction, y_test).item(), 4)\n",
        "hwes_abs_loss = round(abs_loss(hwes_prediction, y_test).item(), 4)\n",
        "\n",
        "print('===')\n",
        "print('Results on Test Dataset')\n",
        "print(f'DL Loss: {dl_abs_loss}')\n",
        "print(f'SARIMA Loss: {sarima_abs_loss}')\n",
        "print(f'HWES Loss: {hwes_abs_loss}')"
      ]
    },
    {
      "cell_type": "code",
      "execution_count": 18,
      "metadata": {
        "colab": {
          "base_uri": "https://localhost:8080/",
          "height": 809
        },
        "id": "i_vyPDDi6Hwc",
        "outputId": "fb5dd79d-1138-41be-8694-886d811b380d"
      },
      "outputs": [
        {
          "output_type": "display_data",
          "data": {
            "text/plain": [
              "<Figure size 432x288 with 1 Axes>"
            ],
            "image/png": "[encoded data removed]"
          },
          "metadata": {
            "needs_background": "light"
          }
        },
        {
          "output_type": "display_data",
          "data": {
            "text/plain": [
              "<Figure size 432x288 with 1 Axes>"
            ],
            "image/png": "[encoded data removed]"
          },
          "metadata": {
            "needs_background": "light"
          }
        },
        {
          "output_type": "display_data",
          "data": {
            "text/plain": [
              "<Figure size 432x288 with 3 Axes>"
            ],
            "image/png": "[encoded data removed]"
          },
          "metadata": {
            "needs_background": "light"
          }
        }
      ],
      "source": [
        "plt.title(\"Training progress\")\n",
        "plt.plot(training_loss, label = 'training loss')\n",
        "plt.plot(validation_loss, label = 'validation loss')\n",
        "plt.legend()\n",
        "plt.show()\n",
        "\n",
        "plt.title('Test Dataset')\n",
        "plt.plot(y_test, '--', label = 'actual', linewidth = 3)\n",
        "plt.plot(best_model(x_test).tolist(), label = 'DL', color = 'g')\n",
        "plt.plot(sarima_prediction.tolist(), label = 'SARIMA', color = 'r')\n",
        "plt.plot(hwes_prediction.tolist(), label = 'HWES', color = 'brown')\n",
        "plt.legend()\n",
        "plt.show()\n",
        "\n",
        "test_n = len(y_test)\n",
        "dl_abs_dev = (dl_prediction - y_test).abs_()\n",
        "sarima_abs_dev = (sarima_prediction - y_test).abs_()\n",
        "hwes_abs_dev = (hwes_prediction - y_test).abs_()\n",
        "\n",
        "fig = plt.figure()\n",
        "\n",
        "ax1 = fig.add_subplot(311)\n",
        "ax2 = fig.add_subplot(312)\n",
        "ax3 = fig.add_subplot(313)\n",
        "\n",
        "ax1.set_title(f'Deep Learning Model: {dl_abs_loss}')\n",
        "ax1.bar(list(range(test_n)), dl_abs_dev.view(test_n).tolist(), color = 'g')\n",
        "\n",
        "ax2.set_title(f'SARIMA Model: {sarima_abs_loss}')\n",
        "ax2.bar(list(range(test_n)), sarima_abs_dev.view(test_n).tolist(), color = 'r')\n",
        "\n",
        "ax3.set_title(f'HWES Model: {hwes_abs_loss}')\n",
        "ax3.bar(list(range(test_n)), hwes_abs_dev.view(test_n).tolist(), color = 'brown')\n",
        "\n",
        "plt.show()"
      ]
    },
    {
      "cell_type": "code",
      "execution_count": 18,
      "metadata": {
        "id": "tMIO45Mc6Hwd"
      },
      "outputs": [],
      "source": [
        ""
      ]
    }
  ],
  "metadata": {
    "interpreter": {
      "hash": "40d3a090f54c6569ab1632332b64b2c03c39dcf918b08424e98f38b5ae0af88f"
    },
    "kernelspec": {
      "display_name": "Python 3.9.7 ('base')",
      "language": "python",
      "name": "python3"
    },
    "language_info": {
      "codemirror_mode": {
        "name": "ipython",
        "version": 3
      },
      "file_extension": ".py",
      "mimetype": "text/x-python",
      "name": "python",
      "nbconvert_exporter": "python",
      "pygments_lexer": "ipython3",
      "version": "3.9.7"
    },
    "orig_nbformat": 4,
    "colab": {
      "name": "Weather predction.ipynb",
      "provenance": []
    },
    "accelerator": "GPU"
  },
  "nbformat": 4,
  "nbformat_minor": 0
}